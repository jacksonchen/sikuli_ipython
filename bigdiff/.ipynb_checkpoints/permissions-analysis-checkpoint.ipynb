{
 "metadata": {
  "name": "",
  "signature": "sha256:1af90847e4a04d4d3a0eac064c0cab7b3f89df216d26f2e367aeb48971985335"
 },
 "nbformat": 3,
 "nbformat_minor": 0,
 "worksheets": []
}